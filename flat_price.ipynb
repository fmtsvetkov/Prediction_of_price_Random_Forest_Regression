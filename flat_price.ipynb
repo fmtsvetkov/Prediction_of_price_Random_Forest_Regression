{
 "cells": [
  {
   "cell_type": "markdown",
   "metadata": {},
   "source": [
    "# Predict the price of the flat using given data set from airbnb.\n",
    "City: Berlin\n",
    "Year: 2016"
   ]
  },
  {
   "cell_type": "code",
   "execution_count": 116,
   "metadata": {},
   "outputs": [],
   "source": [
    "import pandas as pd     \n",
    "import numpy as np            # pandas is a dataframe library\n",
    "from sklearn.linear_model import LinearRegression    \n",
    ""
   ]
  },
  {
   "cell_type": "markdown",
   "metadata": {},
   "source": [
    "## Loading and Reviewing the Data"
   ]
  },
  {
   "cell_type": "code",
   "execution_count": 117,
   "metadata": {},
   "outputs": [],
   "source": [
    "#import os\n",
    "#for dirname, _, filenames in os.walk('/kaggle/input'):\n",
    "#    for filename in filenames:\n",
    "#        print(os.path.join(dirname, filename))\n",
    ""
   ]
  },
  {
   "cell_type": "code",
   "execution_count": 118,
   "metadata": {},
   "outputs": [
    {
     "output_type": "stream",
     "name": "stdout",
     "text": "['/Users/fedorcvetkov/Desktop/Проекты/ML flat price', '/private/var/folders/b8/ynpp9_t124q21rly2d00mjm40000gn/T/af0ab7f5-e15e-4b83-8c58-efa06e141a9f', '/Users/fedorcvetkov/.vscode/extensions/ms-python.python-2020.3.71113/pythonFiles', '/Users/fedorcvetkov/.vscode/extensions/ms-python.python-2020.3.71113/pythonFiles/lib/python', '/Library/Frameworks/Python.framework/Versions/3.7/lib/python37.zip', '/Library/Frameworks/Python.framework/Versions/3.7/lib/python3.7', '/Library/Frameworks/Python.framework/Versions/3.7/lib/python3.7/lib-dynload', '', '/Users/fedorcvetkov/Library/Python/3.7/lib/python/site-packages', '/Library/Frameworks/Python.framework/Versions/3.7/lib/python3.7/site-packages', '/Library/Frameworks/Python.framework/Versions/3.7/lib/python3.7/site-packages/folium-0.10.1+6.g4a7532d-py3.7.egg', '/Users/fedorcvetkov/Library/Python/3.7/lib/python/site-packages/IPython/extensions', '/Users/fedorcvetkov/.ipython']\n"
    }
   ],
   "source": [
    "import sys\n",
    "print(sys.path)"
   ]
  },
  {
   "cell_type": "code",
   "execution_count": 119,
   "metadata": {},
   "outputs": [],
   "source": [
    "#df = pd.read_csv('/kaggle/input/berlin-airbnb-prices/berlin_airbnb_train.csv')\n",
    "#df1 = pd.read_csv('/kaggle/input/berlin-airbnb-prices/berlin_airbnb_test.csv')\n",
    "#sample_submission = pd.read_csv('/kaggle/input/berlin-airbnb-prices/submit.csv')"
   ]
  },
  {
   "cell_type": "code",
   "execution_count": 120,
   "metadata": {},
   "outputs": [],
   "source": [
    "df = pd.read_csv('/Users/fedorcvetkov/Desktop/Проекты/ML flat price/berlin-airbnb-prices/berlin_airbnb_train.csv')\n",
    "df1 = pd.read_csv('/Users/fedorcvetkov/Desktop/Проекты/ML flat price/berlin-airbnb-prices/berlin_airbnb_test.csv')\n",
    "sample_submission = pd.read_csv('/Users/fedorcvetkov/Desktop/Проекты/ML flat price/berlin-airbnb-prices/submit.csv')"
   ]
  },
  {
   "cell_type": "code",
   "execution_count": 121,
   "metadata": {},
   "outputs": [
    {
     "output_type": "execute_result",
     "data": {
      "text/plain": "(16468, 22)"
     },
     "metadata": {},
     "execution_count": 121
    }
   ],
   "source": [
    "df.shape"
   ]
  },
  {
   "cell_type": "code",
   "execution_count": 122,
   "metadata": {},
   "outputs": [
    {
     "output_type": "execute_result",
     "data": {
      "text/plain": "   accommodates  bathrooms  bedrooms  price  cleaning_fee  security_deposit  \\\n0             4        1.0       2.0   52.0          20.0             300.0   \n1             2        1.0       1.0  125.0          45.0             200.0   \n2             2        1.0       1.0   30.0          20.0               0.0   \n3             2        1.0       1.0   25.0           0.0               0.0   \n4             2        1.0       1.0   54.0           0.0               0.0   \n\n   extra_people  guests_included  distance        size  ...  bed_type  \\\n0          10.0                2  8.492239   20.000000  ...  Real Bed   \n1           0.0                1  3.951948  200.000000  ...  Real Bed   \n2           0.0                1  3.748695   45.749963  ...  Real Bed   \n3          10.0                1  5.062518   18.000000  ...  Real Bed   \n4           9.0                1  3.184217   55.055173  ...  Real Bed   \n\n  minimum_nights instant_bookable  is_business_travel_ready  \\\n0              2                f                         f   \n1              5                t                         f   \n2              5                t                         f   \n3             14                f                         f   \n4              1                f                         f   \n\n           cancellation_policy Laptop_friendly_workspace     TV  \\\n0  strict_14_with_grace_period                     False  False   \n1  strict_14_with_grace_period                     False   True   \n2                     moderate                      True  False   \n3                     moderate                      True  False   \n4                     flexible                     False   True   \n\n   Family_kid_friendly  Host_greets_you  Smoking_allowed  \n0                 True            False            False  \n1                False            False            False  \n2                False             True            False  \n3                 True            False            False  \n4                False             True            False  \n\n[5 rows x 22 columns]",
      "text/html": "<div>\n<style scoped>\n    .dataframe tbody tr th:only-of-type {\n        vertical-align: middle;\n    }\n\n    .dataframe tbody tr th {\n        vertical-align: top;\n    }\n\n    .dataframe thead th {\n        text-align: right;\n    }\n</style>\n<table border=\"1\" class=\"dataframe\">\n  <thead>\n    <tr style=\"text-align: right;\">\n      <th></th>\n      <th>accommodates</th>\n      <th>bathrooms</th>\n      <th>bedrooms</th>\n      <th>price</th>\n      <th>cleaning_fee</th>\n      <th>security_deposit</th>\n      <th>extra_people</th>\n      <th>guests_included</th>\n      <th>distance</th>\n      <th>size</th>\n      <th>...</th>\n      <th>bed_type</th>\n      <th>minimum_nights</th>\n      <th>instant_bookable</th>\n      <th>is_business_travel_ready</th>\n      <th>cancellation_policy</th>\n      <th>Laptop_friendly_workspace</th>\n      <th>TV</th>\n      <th>Family_kid_friendly</th>\n      <th>Host_greets_you</th>\n      <th>Smoking_allowed</th>\n    </tr>\n  </thead>\n  <tbody>\n    <tr>\n      <th>0</th>\n      <td>4</td>\n      <td>1.0</td>\n      <td>2.0</td>\n      <td>52.0</td>\n      <td>20.0</td>\n      <td>300.0</td>\n      <td>10.0</td>\n      <td>2</td>\n      <td>8.492239</td>\n      <td>20.000000</td>\n      <td>...</td>\n      <td>Real Bed</td>\n      <td>2</td>\n      <td>f</td>\n      <td>f</td>\n      <td>strict_14_with_grace_period</td>\n      <td>False</td>\n      <td>False</td>\n      <td>True</td>\n      <td>False</td>\n      <td>False</td>\n    </tr>\n    <tr>\n      <th>1</th>\n      <td>2</td>\n      <td>1.0</td>\n      <td>1.0</td>\n      <td>125.0</td>\n      <td>45.0</td>\n      <td>200.0</td>\n      <td>0.0</td>\n      <td>1</td>\n      <td>3.951948</td>\n      <td>200.000000</td>\n      <td>...</td>\n      <td>Real Bed</td>\n      <td>5</td>\n      <td>t</td>\n      <td>f</td>\n      <td>strict_14_with_grace_period</td>\n      <td>False</td>\n      <td>True</td>\n      <td>False</td>\n      <td>False</td>\n      <td>False</td>\n    </tr>\n    <tr>\n      <th>2</th>\n      <td>2</td>\n      <td>1.0</td>\n      <td>1.0</td>\n      <td>30.0</td>\n      <td>20.0</td>\n      <td>0.0</td>\n      <td>0.0</td>\n      <td>1</td>\n      <td>3.748695</td>\n      <td>45.749963</td>\n      <td>...</td>\n      <td>Real Bed</td>\n      <td>5</td>\n      <td>t</td>\n      <td>f</td>\n      <td>moderate</td>\n      <td>True</td>\n      <td>False</td>\n      <td>False</td>\n      <td>True</td>\n      <td>False</td>\n    </tr>\n    <tr>\n      <th>3</th>\n      <td>2</td>\n      <td>1.0</td>\n      <td>1.0</td>\n      <td>25.0</td>\n      <td>0.0</td>\n      <td>0.0</td>\n      <td>10.0</td>\n      <td>1</td>\n      <td>5.062518</td>\n      <td>18.000000</td>\n      <td>...</td>\n      <td>Real Bed</td>\n      <td>14</td>\n      <td>f</td>\n      <td>f</td>\n      <td>moderate</td>\n      <td>True</td>\n      <td>False</td>\n      <td>True</td>\n      <td>False</td>\n      <td>False</td>\n    </tr>\n    <tr>\n      <th>4</th>\n      <td>2</td>\n      <td>1.0</td>\n      <td>1.0</td>\n      <td>54.0</td>\n      <td>0.0</td>\n      <td>0.0</td>\n      <td>9.0</td>\n      <td>1</td>\n      <td>3.184217</td>\n      <td>55.055173</td>\n      <td>...</td>\n      <td>Real Bed</td>\n      <td>1</td>\n      <td>f</td>\n      <td>f</td>\n      <td>flexible</td>\n      <td>False</td>\n      <td>True</td>\n      <td>False</td>\n      <td>True</td>\n      <td>False</td>\n    </tr>\n  </tbody>\n</table>\n<p>5 rows × 22 columns</p>\n</div>"
     },
     "metadata": {},
     "execution_count": 122
    }
   ],
   "source": [
    "df.head(5)"
   ]
  },
  {
   "cell_type": "code",
   "execution_count": 123,
   "metadata": {},
   "outputs": [
    {
     "output_type": "execute_result",
     "data": {
      "text/plain": "       accommodates  bathrooms  bedrooms  price  cleaning_fee  \\\n16463             2        1.0       1.0   29.0          10.0   \n16464             2        1.0       1.0   80.0          60.0   \n16465             4        1.5       1.0   40.0          30.0   \n16466             2        1.0       1.0   35.0          20.0   \n16467             3        1.5       1.0   69.0          25.0   \n\n       security_deposit  extra_people  guests_included  distance       size  \\\n16463               0.0          12.0                1  3.016456  50.069809   \n16464             200.0          20.0                2  5.811090  46.000000   \n16465             100.0           5.0                1  6.467802  15.000000   \n16466             150.0          15.0                2  5.625139  53.715891   \n16467               0.0           0.0                1  3.613820  97.000000   \n\n       ...  bed_type minimum_nights instant_bookable  \\\n16463  ...  Real Bed              1                f   \n16464  ...  Real Bed              3                t   \n16465  ...  Real Bed             14                f   \n16466  ...  Real Bed              2                f   \n16467  ...  Real Bed              4                f   \n\n       is_business_travel_ready          cancellation_policy  \\\n16463                         f                     moderate   \n16464                         f                     moderate   \n16465                         f                     moderate   \n16466                         f                     moderate   \n16467                         f  strict_14_with_grace_period   \n\n      Laptop_friendly_workspace     TV  Family_kid_friendly  Host_greets_you  \\\n16463                      True  False                 True             True   \n16464                      True   True                False             True   \n16465                     False  False                 True             True   \n16466                      True  False                False            False   \n16467                     False  False                 True            False   \n\n       Smoking_allowed  \n16463            False  \n16464            False  \n16465            False  \n16466            False  \n16467            False  \n\n[5 rows x 22 columns]",
      "text/html": "<div>\n<style scoped>\n    .dataframe tbody tr th:only-of-type {\n        vertical-align: middle;\n    }\n\n    .dataframe tbody tr th {\n        vertical-align: top;\n    }\n\n    .dataframe thead th {\n        text-align: right;\n    }\n</style>\n<table border=\"1\" class=\"dataframe\">\n  <thead>\n    <tr style=\"text-align: right;\">\n      <th></th>\n      <th>accommodates</th>\n      <th>bathrooms</th>\n      <th>bedrooms</th>\n      <th>price</th>\n      <th>cleaning_fee</th>\n      <th>security_deposit</th>\n      <th>extra_people</th>\n      <th>guests_included</th>\n      <th>distance</th>\n      <th>size</th>\n      <th>...</th>\n      <th>bed_type</th>\n      <th>minimum_nights</th>\n      <th>instant_bookable</th>\n      <th>is_business_travel_ready</th>\n      <th>cancellation_policy</th>\n      <th>Laptop_friendly_workspace</th>\n      <th>TV</th>\n      <th>Family_kid_friendly</th>\n      <th>Host_greets_you</th>\n      <th>Smoking_allowed</th>\n    </tr>\n  </thead>\n  <tbody>\n    <tr>\n      <th>16463</th>\n      <td>2</td>\n      <td>1.0</td>\n      <td>1.0</td>\n      <td>29.0</td>\n      <td>10.0</td>\n      <td>0.0</td>\n      <td>12.0</td>\n      <td>1</td>\n      <td>3.016456</td>\n      <td>50.069809</td>\n      <td>...</td>\n      <td>Real Bed</td>\n      <td>1</td>\n      <td>f</td>\n      <td>f</td>\n      <td>moderate</td>\n      <td>True</td>\n      <td>False</td>\n      <td>True</td>\n      <td>True</td>\n      <td>False</td>\n    </tr>\n    <tr>\n      <th>16464</th>\n      <td>2</td>\n      <td>1.0</td>\n      <td>1.0</td>\n      <td>80.0</td>\n      <td>60.0</td>\n      <td>200.0</td>\n      <td>20.0</td>\n      <td>2</td>\n      <td>5.811090</td>\n      <td>46.000000</td>\n      <td>...</td>\n      <td>Real Bed</td>\n      <td>3</td>\n      <td>t</td>\n      <td>f</td>\n      <td>moderate</td>\n      <td>True</td>\n      <td>True</td>\n      <td>False</td>\n      <td>True</td>\n      <td>False</td>\n    </tr>\n    <tr>\n      <th>16465</th>\n      <td>4</td>\n      <td>1.5</td>\n      <td>1.0</td>\n      <td>40.0</td>\n      <td>30.0</td>\n      <td>100.0</td>\n      <td>5.0</td>\n      <td>1</td>\n      <td>6.467802</td>\n      <td>15.000000</td>\n      <td>...</td>\n      <td>Real Bed</td>\n      <td>14</td>\n      <td>f</td>\n      <td>f</td>\n      <td>moderate</td>\n      <td>False</td>\n      <td>False</td>\n      <td>True</td>\n      <td>True</td>\n      <td>False</td>\n    </tr>\n    <tr>\n      <th>16466</th>\n      <td>2</td>\n      <td>1.0</td>\n      <td>1.0</td>\n      <td>35.0</td>\n      <td>20.0</td>\n      <td>150.0</td>\n      <td>15.0</td>\n      <td>2</td>\n      <td>5.625139</td>\n      <td>53.715891</td>\n      <td>...</td>\n      <td>Real Bed</td>\n      <td>2</td>\n      <td>f</td>\n      <td>f</td>\n      <td>moderate</td>\n      <td>True</td>\n      <td>False</td>\n      <td>False</td>\n      <td>False</td>\n      <td>False</td>\n    </tr>\n    <tr>\n      <th>16467</th>\n      <td>3</td>\n      <td>1.5</td>\n      <td>1.0</td>\n      <td>69.0</td>\n      <td>25.0</td>\n      <td>0.0</td>\n      <td>0.0</td>\n      <td>1</td>\n      <td>3.613820</td>\n      <td>97.000000</td>\n      <td>...</td>\n      <td>Real Bed</td>\n      <td>4</td>\n      <td>f</td>\n      <td>f</td>\n      <td>strict_14_with_grace_period</td>\n      <td>False</td>\n      <td>False</td>\n      <td>True</td>\n      <td>False</td>\n      <td>False</td>\n    </tr>\n  </tbody>\n</table>\n<p>5 rows × 22 columns</p>\n</div>"
     },
     "metadata": {},
     "execution_count": 123
    }
   ],
   "source": [
    "df.tail(5)"
   ]
  },
  {
   "cell_type": "markdown",
   "metadata": {},
   "source": [
    "# Deleting non-specific and dummy data:\n",
    "host_has_profile_pic - because all of them are true\n",
    "\n",
    "is_business_travel_ready - because most of them are fasle."
   ]
  },
  {
   "cell_type": "code",
   "execution_count": 124,
   "metadata": {},
   "outputs": [],
   "source": [
    "del df['host_has_profile_pic']\n",
    "del df['is_business_travel_ready']"
   ]
  },
  {
   "cell_type": "code",
   "execution_count": 125,
   "metadata": {},
   "outputs": [],
   "source": [
    "del df1['host_has_profile_pic']\n",
    "del df1['is_business_travel_ready']"
   ]
  },
  {
   "cell_type": "markdown",
   "metadata": {},
   "source": [
    "# Data Types\n",
    "\n",
    "Inspect data types to see if there are any issues.  Data should be numeric."
   ]
  },
  {
   "cell_type": "markdown",
   "metadata": {},
   "source": [
    "## Converting string to num:\n",
    "For each column we make a map to convert from string to number."
   ]
  },
  {
   "cell_type": "code",
   "execution_count": 126,
   "metadata": {},
   "outputs": [
    {
     "output_type": "stream",
     "name": "stdout",
     "text": "<class 'pandas.core.frame.DataFrame'>\nRangeIndex: 16468 entries, 0 to 16467\nData columns (total 20 columns):\n #   Column                     Non-Null Count  Dtype  \n---  ------                     --------------  -----  \n 0   accommodates               16468 non-null  int64  \n 1   bathrooms                  16468 non-null  float64\n 2   bedrooms                   16468 non-null  float64\n 3   price                      16468 non-null  float64\n 4   cleaning_fee               16468 non-null  float64\n 5   security_deposit           16468 non-null  float64\n 6   extra_people               16468 non-null  float64\n 7   guests_included            16468 non-null  int64  \n 8   distance                   16468 non-null  float64\n 9   size                       16468 non-null  float64\n 10  room_type                  16468 non-null  object \n 11  bed_type                   16468 non-null  object \n 12  minimum_nights             16468 non-null  int64  \n 13  instant_bookable           16468 non-null  object \n 14  cancellation_policy        16468 non-null  object \n 15  Laptop_friendly_workspace  16468 non-null  bool   \n 16  TV                         16468 non-null  bool   \n 17  Family_kid_friendly        16468 non-null  bool   \n 18  Host_greets_you            16468 non-null  bool   \n 19  Smoking_allowed            16468 non-null  bool   \ndtypes: bool(5), float64(8), int64(3), object(4)\nmemory usage: 2.0+ MB\n"
    }
   ],
   "source": [
    "df.info()"
   ]
  },
  {
   "cell_type": "code",
   "execution_count": 127,
   "metadata": {},
   "outputs": [
    {
     "output_type": "execute_result",
     "data": {
      "text/plain": "array(['Private room', 'Entire home/apt', 'Shared room'], dtype=object)"
     },
     "metadata": {},
     "execution_count": 127
    }
   ],
   "source": [
    "df['room_type'].unique()\n",
    ""
   ]
  },
  {
   "cell_type": "code",
   "execution_count": 128,
   "metadata": {},
   "outputs": [
    {
     "output_type": "execute_result",
     "data": {
      "text/plain": "array(['Real Bed', 'Pull-out Sofa', 'Futon', 'Airbed', 'Couch'],\n      dtype=object)"
     },
     "metadata": {},
     "execution_count": 128
    }
   ],
   "source": [
    "df['bed_type'].unique()\n",
    ""
   ]
  },
  {
   "cell_type": "code",
   "execution_count": 129,
   "metadata": {},
   "outputs": [
    {
     "output_type": "execute_result",
     "data": {
      "text/plain": "array(['f', 't'], dtype=object)"
     },
     "metadata": {},
     "execution_count": 129
    }
   ],
   "source": [
    "df['instant_bookable'].unique()\n",
    ""
   ]
  },
  {
   "cell_type": "code",
   "execution_count": 130,
   "metadata": {},
   "outputs": [
    {
     "output_type": "execute_result",
     "data": {
      "text/plain": "array(['strict_14_with_grace_period', 'moderate', 'flexible',\n       'super_strict_30', 'super_strict_60'], dtype=object)"
     },
     "metadata": {},
     "execution_count": 130
    }
   ],
   "source": [
    "df['cancellation_policy'].unique()\n",
    ""
   ]
  },
  {
   "cell_type": "code",
   "execution_count": 131,
   "metadata": {},
   "outputs": [
    {
     "output_type": "execute_result",
     "data": {
      "text/plain": "array([False,  True])"
     },
     "metadata": {},
     "execution_count": 131
    }
   ],
   "source": [
    "df['Laptop_friendly_workspace'].unique()\n",
    ""
   ]
  },
  {
   "cell_type": "code",
   "execution_count": 132,
   "metadata": {},
   "outputs": [
    {
     "output_type": "execute_result",
     "data": {
      "text/plain": "array([False,  True])"
     },
     "metadata": {},
     "execution_count": 132
    }
   ],
   "source": [
    "df['TV'].unique()"
   ]
  },
  {
   "cell_type": "code",
   "execution_count": 133,
   "metadata": {},
   "outputs": [
    {
     "output_type": "execute_result",
     "data": {
      "text/plain": "array([ True, False])"
     },
     "metadata": {},
     "execution_count": 133
    }
   ],
   "source": [
    "df['Family_kid_friendly'].unique()"
   ]
  },
  {
   "cell_type": "code",
   "execution_count": 134,
   "metadata": {},
   "outputs": [
    {
     "output_type": "execute_result",
     "data": {
      "text/plain": "array([False,  True])"
     },
     "metadata": {},
     "execution_count": 134
    }
   ],
   "source": [
    "df['Host_greets_you'].unique()"
   ]
  },
  {
   "cell_type": "code",
   "execution_count": 135,
   "metadata": {},
   "outputs": [
    {
     "output_type": "execute_result",
     "data": {
      "text/plain": "array([False,  True])"
     },
     "metadata": {},
     "execution_count": 135
    }
   ],
   "source": [
    "df['Smoking_allowed'].unique()"
   ]
  },
  {
   "cell_type": "code",
   "execution_count": 136,
   "metadata": {},
   "outputs": [],
   "source": [
    "room_type_map = {'Shared room' : 0.0, 'Private room' : 1.0, 'Entire home/apt' : 2.0, 'Airbed' : 3.0, 'Couch' : 4.0}\n",
    "df['room_type'] = df['room_type'].map(room_type_map)\n",
    "\n",
    "bed_type_map = {'Pull-out Sofa' : 0.0, 'Futon' : 1.0, 'Real Bed' : 2.0, 'Airbed' : 3.0, 'Couch' : 4.0}\n",
    "df['bed_type'] = df['bed_type'].map(bed_type_map)\n",
    "\n",
    "instant_bookable_map = {'t' : 1.0, 'f' : 0.0}\n",
    "df['instant_bookable'] = df['instant_bookable'].map(instant_bookable_map)\n",
    "\n",
    "cancellation_policy_map = {'flexible' : 0.0, 'moderate' : 1.0, 'strict_14_with_grace_period' : 2.0, 'super_strict_30' : 3.0, 'super_strict_60' : 4.0}\n",
    "df['cancellation_policy'] = df['cancellation_policy'].map(cancellation_policy_map)\n",
    "\n",
    "#Laptop_friendly_workspace_map = {'False' : 0, 'True' : 1}\n",
    "#df['Laptop_friendly_workspace'] = df['Laptop_friendly_workspace'].map(Laptop_friendly_workspace_map)\n",
    "df['Laptop_friendly_workspace']= df['Laptop_friendly_workspace'].astype(np.float64)\n",
    "\n",
    "df['TV']= df['TV'].astype(np.float64)\n",
    "\n",
    "df['Family_kid_friendly']= df['Family_kid_friendly'].astype(np.float64)\n",
    "\n",
    "df['Host_greets_you']= df['Host_greets_you'].astype(np.float64)\n",
    "\n",
    "df['Smoking_allowed']= df['Smoking_allowed'].astype(np.float64)\n",
    "#TV_map = {'FALSE' : 0, 'TRUE' : 1}\n",
    "#df['TV'] = df['TV'].map(TV_map)\n",
    "\n",
    "#Family_kid_friendly_map = {'False' : 0, ' True' : 1}\n",
    "#df['Family_kid_friendly'] = df['Family_kid_friendly'].map(Family_kid_friendly_map)\n",
    "\n",
    "#Host_greets_you_map = {'FALSE' : 0, 'TRUE' : 1}\n",
    "#df['Host_greets_you'] = df['Host_greets_you'].map(Host_greets_you_map)\n",
    "\n",
    "#Smoking_allowed_map = {'False' : 0, 'True' : 1}\n",
    "#df['Smoking_allowed'] = df['Smoking_allowed'].map(Smoking_allowed_map)\n",
    "\n",
    ""
   ]
  },
  {
   "cell_type": "code",
   "execution_count": 137,
   "metadata": {},
   "outputs": [],
   "source": [
    "room_type_map = {'Shared room' : 0.0, 'Private room' : 1.0, 'Entire home/apt' : 2.0, 'Airbed' : 3.0, 'Couch' : 4.0}\n",
    "df1['room_type'] = df1['room_type'].map(room_type_map)\n",
    "\n",
    "bed_type_map = {'Pull-out Sofa' : 0.0, 'Futon' : 1.0, 'Real Bed' : 2.0, 'Airbed' : 3.0, 'Couch' : 4.0}\n",
    "df1['bed_type'] = df1['bed_type'].map(bed_type_map)\n",
    "\n",
    "instant_bookable_map = {'t' : 1.0, 'f' : 0.0}\n",
    "df1['instant_bookable'] = df1['instant_bookable'].map(instant_bookable_map)\n",
    "\n",
    "cancellation_policy_map = {'flexible' : 0.0, 'moderate' : 1.0, 'strict_14_with_grace_period' : 2.0, 'super_strict_30' : 3.0, 'super_strict_60' : 4.0}\n",
    "df1['cancellation_policy'] = df1['cancellation_policy'].map(cancellation_policy_map)\n",
    "\n",
    "df1['Laptop_friendly_workspace']= df1['Laptop_friendly_workspace'].astype(np.float64)\n",
    "\n",
    "df1['TV']= df1['TV'].astype(np.float64)\n",
    "\n",
    "df1['Family_kid_friendly']= df1['Family_kid_friendly'].astype(np.float64)\n",
    "\n",
    "df1['Host_greets_you']= df1['Host_greets_you'].astype(np.float64)\n",
    "\n",
    "df1['Smoking_allowed']= df1['Smoking_allowed'].astype(np.float64)"
   ]
  },
  {
   "cell_type": "code",
   "execution_count": 138,
   "metadata": {},
   "outputs": [
    {
     "output_type": "stream",
     "name": "stdout",
     "text": "<class 'pandas.core.frame.DataFrame'>\nRangeIndex: 16468 entries, 0 to 16467\nData columns (total 20 columns):\n #   Column                     Non-Null Count  Dtype  \n---  ------                     --------------  -----  \n 0   accommodates               16468 non-null  int64  \n 1   bathrooms                  16468 non-null  float64\n 2   bedrooms                   16468 non-null  float64\n 3   price                      16468 non-null  float64\n 4   cleaning_fee               16468 non-null  float64\n 5   security_deposit           16468 non-null  float64\n 6   extra_people               16468 non-null  float64\n 7   guests_included            16468 non-null  int64  \n 8   distance                   16468 non-null  float64\n 9   size                       16468 non-null  float64\n 10  room_type                  16468 non-null  float64\n 11  bed_type                   16468 non-null  float64\n 12  minimum_nights             16468 non-null  int64  \n 13  instant_bookable           16468 non-null  float64\n 14  cancellation_policy        16468 non-null  float64\n 15  Laptop_friendly_workspace  16468 non-null  float64\n 16  TV                         16468 non-null  float64\n 17  Family_kid_friendly        16468 non-null  float64\n 18  Host_greets_you            16468 non-null  float64\n 19  Smoking_allowed            16468 non-null  float64\ndtypes: float64(17), int64(3)\nmemory usage: 2.5 MB\n"
    }
   ],
   "source": [
    "df.info()"
   ]
  },
  {
   "cell_type": "markdown",
   "metadata": {},
   "source": [
    "Just some text to have space between two parts\n",
    "\n"
   ]
  },
  {
   "cell_type": "code",
   "execution_count": 139,
   "metadata": {},
   "outputs": [
    {
     "output_type": "execute_result",
     "data": {
      "text/plain": "                           accommodates  bathrooms  bedrooms     price  \\\naccommodates                   1.000000   0.244119  0.624151  0.572825   \nbathrooms                      0.244119   1.000000  0.299919  0.252917   \nbedrooms                       0.624151   0.299919  1.000000  0.471137   \nprice                          0.572825   0.252917  0.471137  1.000000   \ncleaning_fee                   0.345674   0.141415  0.272044  0.400418   \nsecurity_deposit               0.119223   0.058140  0.116950  0.177010   \nextra_people                   0.238968   0.064329  0.138920  0.189393   \nguests_included                0.507672   0.167568  0.371600  0.417486   \ndistance                       0.058999   0.022311  0.048489 -0.064085   \nsize                           0.324393   0.208128  0.261931  0.419729   \nroom_type                      0.393998   0.006432  0.238154  0.452589   \nbed_type                       0.052977   0.018181  0.038845  0.044827   \nminimum_nights                 0.002155  -0.002394  0.004455  0.030003   \ninstant_bookable               0.074814   0.013250 -0.012103  0.042686   \ncancellation_policy            0.200218   0.038757  0.120816  0.203410   \nLaptop_friendly_workspace      0.068465   0.030580  0.052212  0.084699   \nTV                             0.238482   0.082128  0.148449  0.265729   \nFamily_kid_friendly            0.349940   0.084417  0.260328  0.234975   \nHost_greets_you                0.023572   0.004309  0.019485  0.044367   \nSmoking_allowed               -0.105068  -0.008691 -0.092371 -0.150515   \n\n                           cleaning_fee  security_deposit  extra_people  \\\naccommodates                   0.345674          0.119223      0.238968   \nbathrooms                      0.141415          0.058140      0.064329   \nbedrooms                       0.272044          0.116950      0.138920   \nprice                          0.400418          0.177010      0.189393   \ncleaning_fee                   1.000000          0.426571      0.252798   \nsecurity_deposit               0.426571          1.000000      0.123865   \nextra_people                   0.252798          0.123865      1.000000   \nguests_included                0.286336          0.103002      0.322429   \ndistance                       0.004211         -0.007139      0.003816   \nsize                           0.288628          0.152926      0.182756   \nroom_type                      0.360535          0.195302      0.055658   \nbed_type                       0.025058          0.006762      0.003447   \nminimum_nights                 0.108245          0.129478     -0.006922   \ninstant_bookable               0.017870         -0.052223      0.020086   \ncancellation_policy            0.308902          0.190306      0.217387   \nLaptop_friendly_workspace      0.120560          0.045322      0.087636   \nTV                             0.236943          0.117211      0.086148   \nFamily_kid_friendly            0.190704          0.084702      0.136759   \nHost_greets_you                0.114128          0.056503      0.138789   \nSmoking_allowed               -0.153712         -0.089796     -0.035623   \n\n                           guests_included  distance      size  room_type  \\\naccommodates                      0.507672  0.058999  0.324393   0.393998   \nbathrooms                         0.167568  0.022311  0.208128   0.006432   \nbedrooms                          0.371600  0.048489  0.261931   0.238154   \nprice                             0.417486 -0.064085  0.419729   0.452589   \ncleaning_fee                      0.286336  0.004211  0.288628   0.360535   \nsecurity_deposit                  0.103002 -0.007139  0.152926   0.195302   \nextra_people                      0.322429  0.003816  0.182756   0.055658   \nguests_included                   1.000000  0.014502  0.219842   0.262869   \ndistance                          0.014502  1.000000 -0.098646   0.019858   \nsize                              0.219842 -0.098646  1.000000   0.224364   \nroom_type                         0.262869  0.019858  0.224364   1.000000   \nbed_type                          0.021305 -0.001815  0.024537   0.043745   \nminimum_nights                    0.011363  0.005327  0.011177   0.069190   \ninstant_bookable                  0.040728  0.056481  0.014969  -0.004564   \ncancellation_policy               0.190085 -0.029880  0.144067   0.175001   \nLaptop_friendly_workspace         0.051326  0.019400  0.067237   0.072646   \nTV                                0.151793  0.130416  0.156684   0.272560   \nFamily_kid_friendly               0.226091  0.039971  0.147691   0.236279   \nHost_greets_you                   0.041528  0.050364  0.025013  -0.035023   \nSmoking_allowed                  -0.081339 -0.048867 -0.084157  -0.181269   \n\n                           bed_type  minimum_nights  instant_bookable  \\\naccommodates               0.052977        0.002155          0.074814   \nbathrooms                  0.018181       -0.002394          0.013250   \nbedrooms                   0.038845        0.004455         -0.012103   \nprice                      0.044827        0.030003          0.042686   \ncleaning_fee               0.025058        0.108245          0.017870   \nsecurity_deposit           0.006762        0.129478         -0.052223   \nextra_people               0.003447       -0.006922          0.020086   \nguests_included            0.021305        0.011363          0.040728   \ndistance                  -0.001815        0.005327          0.056481   \nsize                       0.024537        0.011177          0.014969   \nroom_type                  0.043745        0.069190         -0.004564   \nbed_type                   1.000000        0.003514          0.037626   \nminimum_nights             0.003514        1.000000         -0.020286   \ninstant_bookable           0.037626       -0.020286          1.000000   \ncancellation_policy        0.008049        0.041172         -0.004971   \nLaptop_friendly_workspace  0.019026       -0.003024          0.095418   \nTV                         0.002943        0.047520          0.039605   \nFamily_kid_friendly        0.005644        0.003468         -0.020519   \nHost_greets_you            0.000420       -0.006081          0.065162   \nSmoking_allowed            0.002631       -0.028504          0.027553   \n\n                           cancellation_policy  Laptop_friendly_workspace  \\\naccommodates                          0.200218                   0.068465   \nbathrooms                             0.038757                   0.030580   \nbedrooms                              0.120816                   0.052212   \nprice                                 0.203410                   0.084699   \ncleaning_fee                          0.308902                   0.120560   \nsecurity_deposit                      0.190306                   0.045322   \nextra_people                          0.217387                   0.087636   \nguests_included                       0.190085                   0.051326   \ndistance                             -0.029880                   0.019400   \nsize                                  0.144067                   0.067237   \nroom_type                             0.175001                   0.072646   \nbed_type                              0.008049                   0.019026   \nminimum_nights                        0.041172                  -0.003024   \ninstant_bookable                     -0.004971                   0.095418   \ncancellation_policy                   1.000000                   0.071320   \nLaptop_friendly_workspace             0.071320                   1.000000   \nTV                                    0.138837                   0.040428   \nFamily_kid_friendly                   0.157030                   0.049276   \nHost_greets_you                       0.143250                   0.162813   \nSmoking_allowed                      -0.118319                  -0.014503   \n\n                                 TV  Family_kid_friendly  Host_greets_you  \\\naccommodates               0.238482             0.349940         0.023572   \nbathrooms                  0.082128             0.084417         0.004309   \nbedrooms                   0.148449             0.260328         0.019485   \nprice                      0.265729             0.234975         0.044367   \ncleaning_fee               0.236943             0.190704         0.114128   \nsecurity_deposit           0.117211             0.084702         0.056503   \nextra_people               0.086148             0.136759         0.138789   \nguests_included            0.151793             0.226091         0.041528   \ndistance                   0.130416             0.039971         0.050364   \nsize                       0.156684             0.147691         0.025013   \nroom_type                  0.272560             0.236279        -0.035023   \nbed_type                   0.002943             0.005644         0.000420   \nminimum_nights             0.047520             0.003468        -0.006081   \ninstant_bookable           0.039605            -0.020519         0.065162   \ncancellation_policy        0.138837             0.157030         0.143250   \nLaptop_friendly_workspace  0.040428             0.049276         0.162813   \nTV                         1.000000             0.145582         0.080039   \nFamily_kid_friendly        0.145582             1.000000         0.024554   \nHost_greets_you            0.080039             0.024554         1.000000   \nSmoking_allowed           -0.100870            -0.091041        -0.021187   \n\n                           Smoking_allowed  \naccommodates                     -0.105068  \nbathrooms                        -0.008691  \nbedrooms                         -0.092371  \nprice                            -0.150515  \ncleaning_fee                     -0.153712  \nsecurity_deposit                 -0.089796  \nextra_people                     -0.035623  \nguests_included                  -0.081339  \ndistance                         -0.048867  \nsize                             -0.084157  \nroom_type                        -0.181269  \nbed_type                          0.002631  \nminimum_nights                   -0.028504  \ninstant_bookable                  0.027553  \ncancellation_policy              -0.118319  \nLaptop_friendly_workspace        -0.014503  \nTV                               -0.100870  \nFamily_kid_friendly              -0.091041  \nHost_greets_you                  -0.021187  \nSmoking_allowed                   1.000000  ",
      "text/html": "<div>\n<style scoped>\n    .dataframe tbody tr th:only-of-type {\n        vertical-align: middle;\n    }\n\n    .dataframe tbody tr th {\n        vertical-align: top;\n    }\n\n    .dataframe thead th {\n        text-align: right;\n    }\n</style>\n<table border=\"1\" class=\"dataframe\">\n  <thead>\n    <tr style=\"text-align: right;\">\n      <th></th>\n      <th>accommodates</th>\n      <th>bathrooms</th>\n      <th>bedrooms</th>\n      <th>price</th>\n      <th>cleaning_fee</th>\n      <th>security_deposit</th>\n      <th>extra_people</th>\n      <th>guests_included</th>\n      <th>distance</th>\n      <th>size</th>\n      <th>room_type</th>\n      <th>bed_type</th>\n      <th>minimum_nights</th>\n      <th>instant_bookable</th>\n      <th>cancellation_policy</th>\n      <th>Laptop_friendly_workspace</th>\n      <th>TV</th>\n      <th>Family_kid_friendly</th>\n      <th>Host_greets_you</th>\n      <th>Smoking_allowed</th>\n    </tr>\n  </thead>\n  <tbody>\n    <tr>\n      <th>accommodates</th>\n      <td>1.000000</td>\n      <td>0.244119</td>\n      <td>0.624151</td>\n      <td>0.572825</td>\n      <td>0.345674</td>\n      <td>0.119223</td>\n      <td>0.238968</td>\n      <td>0.507672</td>\n      <td>0.058999</td>\n      <td>0.324393</td>\n      <td>0.393998</td>\n      <td>0.052977</td>\n      <td>0.002155</td>\n      <td>0.074814</td>\n      <td>0.200218</td>\n      <td>0.068465</td>\n      <td>0.238482</td>\n      <td>0.349940</td>\n      <td>0.023572</td>\n      <td>-0.105068</td>\n    </tr>\n    <tr>\n      <th>bathrooms</th>\n      <td>0.244119</td>\n      <td>1.000000</td>\n      <td>0.299919</td>\n      <td>0.252917</td>\n      <td>0.141415</td>\n      <td>0.058140</td>\n      <td>0.064329</td>\n      <td>0.167568</td>\n      <td>0.022311</td>\n      <td>0.208128</td>\n      <td>0.006432</td>\n      <td>0.018181</td>\n      <td>-0.002394</td>\n      <td>0.013250</td>\n      <td>0.038757</td>\n      <td>0.030580</td>\n      <td>0.082128</td>\n      <td>0.084417</td>\n      <td>0.004309</td>\n      <td>-0.008691</td>\n    </tr>\n    <tr>\n      <th>bedrooms</th>\n      <td>0.624151</td>\n      <td>0.299919</td>\n      <td>1.000000</td>\n      <td>0.471137</td>\n      <td>0.272044</td>\n      <td>0.116950</td>\n      <td>0.138920</td>\n      <td>0.371600</td>\n      <td>0.048489</td>\n      <td>0.261931</td>\n      <td>0.238154</td>\n      <td>0.038845</td>\n      <td>0.004455</td>\n      <td>-0.012103</td>\n      <td>0.120816</td>\n      <td>0.052212</td>\n      <td>0.148449</td>\n      <td>0.260328</td>\n      <td>0.019485</td>\n      <td>-0.092371</td>\n    </tr>\n    <tr>\n      <th>price</th>\n      <td>0.572825</td>\n      <td>0.252917</td>\n      <td>0.471137</td>\n      <td>1.000000</td>\n      <td>0.400418</td>\n      <td>0.177010</td>\n      <td>0.189393</td>\n      <td>0.417486</td>\n      <td>-0.064085</td>\n      <td>0.419729</td>\n      <td>0.452589</td>\n      <td>0.044827</td>\n      <td>0.030003</td>\n      <td>0.042686</td>\n      <td>0.203410</td>\n      <td>0.084699</td>\n      <td>0.265729</td>\n      <td>0.234975</td>\n      <td>0.044367</td>\n      <td>-0.150515</td>\n    </tr>\n    <tr>\n      <th>cleaning_fee</th>\n      <td>0.345674</td>\n      <td>0.141415</td>\n      <td>0.272044</td>\n      <td>0.400418</td>\n      <td>1.000000</td>\n      <td>0.426571</td>\n      <td>0.252798</td>\n      <td>0.286336</td>\n      <td>0.004211</td>\n      <td>0.288628</td>\n      <td>0.360535</td>\n      <td>0.025058</td>\n      <td>0.108245</td>\n      <td>0.017870</td>\n      <td>0.308902</td>\n      <td>0.120560</td>\n      <td>0.236943</td>\n      <td>0.190704</td>\n      <td>0.114128</td>\n      <td>-0.153712</td>\n    </tr>\n    <tr>\n      <th>security_deposit</th>\n      <td>0.119223</td>\n      <td>0.058140</td>\n      <td>0.116950</td>\n      <td>0.177010</td>\n      <td>0.426571</td>\n      <td>1.000000</td>\n      <td>0.123865</td>\n      <td>0.103002</td>\n      <td>-0.007139</td>\n      <td>0.152926</td>\n      <td>0.195302</td>\n      <td>0.006762</td>\n      <td>0.129478</td>\n      <td>-0.052223</td>\n      <td>0.190306</td>\n      <td>0.045322</td>\n      <td>0.117211</td>\n      <td>0.084702</td>\n      <td>0.056503</td>\n      <td>-0.089796</td>\n    </tr>\n    <tr>\n      <th>extra_people</th>\n      <td>0.238968</td>\n      <td>0.064329</td>\n      <td>0.138920</td>\n      <td>0.189393</td>\n      <td>0.252798</td>\n      <td>0.123865</td>\n      <td>1.000000</td>\n      <td>0.322429</td>\n      <td>0.003816</td>\n      <td>0.182756</td>\n      <td>0.055658</td>\n      <td>0.003447</td>\n      <td>-0.006922</td>\n      <td>0.020086</td>\n      <td>0.217387</td>\n      <td>0.087636</td>\n      <td>0.086148</td>\n      <td>0.136759</td>\n      <td>0.138789</td>\n      <td>-0.035623</td>\n    </tr>\n    <tr>\n      <th>guests_included</th>\n      <td>0.507672</td>\n      <td>0.167568</td>\n      <td>0.371600</td>\n      <td>0.417486</td>\n      <td>0.286336</td>\n      <td>0.103002</td>\n      <td>0.322429</td>\n      <td>1.000000</td>\n      <td>0.014502</td>\n      <td>0.219842</td>\n      <td>0.262869</td>\n      <td>0.021305</td>\n      <td>0.011363</td>\n      <td>0.040728</td>\n      <td>0.190085</td>\n      <td>0.051326</td>\n      <td>0.151793</td>\n      <td>0.226091</td>\n      <td>0.041528</td>\n      <td>-0.081339</td>\n    </tr>\n    <tr>\n      <th>distance</th>\n      <td>0.058999</td>\n      <td>0.022311</td>\n      <td>0.048489</td>\n      <td>-0.064085</td>\n      <td>0.004211</td>\n      <td>-0.007139</td>\n      <td>0.003816</td>\n      <td>0.014502</td>\n      <td>1.000000</td>\n      <td>-0.098646</td>\n      <td>0.019858</td>\n      <td>-0.001815</td>\n      <td>0.005327</td>\n      <td>0.056481</td>\n      <td>-0.029880</td>\n      <td>0.019400</td>\n      <td>0.130416</td>\n      <td>0.039971</td>\n      <td>0.050364</td>\n      <td>-0.048867</td>\n    </tr>\n    <tr>\n      <th>size</th>\n      <td>0.324393</td>\n      <td>0.208128</td>\n      <td>0.261931</td>\n      <td>0.419729</td>\n      <td>0.288628</td>\n      <td>0.152926</td>\n      <td>0.182756</td>\n      <td>0.219842</td>\n      <td>-0.098646</td>\n      <td>1.000000</td>\n      <td>0.224364</td>\n      <td>0.024537</td>\n      <td>0.011177</td>\n      <td>0.014969</td>\n      <td>0.144067</td>\n      <td>0.067237</td>\n      <td>0.156684</td>\n      <td>0.147691</td>\n      <td>0.025013</td>\n      <td>-0.084157</td>\n    </tr>\n    <tr>\n      <th>room_type</th>\n      <td>0.393998</td>\n      <td>0.006432</td>\n      <td>0.238154</td>\n      <td>0.452589</td>\n      <td>0.360535</td>\n      <td>0.195302</td>\n      <td>0.055658</td>\n      <td>0.262869</td>\n      <td>0.019858</td>\n      <td>0.224364</td>\n      <td>1.000000</td>\n      <td>0.043745</td>\n      <td>0.069190</td>\n      <td>-0.004564</td>\n      <td>0.175001</td>\n      <td>0.072646</td>\n      <td>0.272560</td>\n      <td>0.236279</td>\n      <td>-0.035023</td>\n      <td>-0.181269</td>\n    </tr>\n    <tr>\n      <th>bed_type</th>\n      <td>0.052977</td>\n      <td>0.018181</td>\n      <td>0.038845</td>\n      <td>0.044827</td>\n      <td>0.025058</td>\n      <td>0.006762</td>\n      <td>0.003447</td>\n      <td>0.021305</td>\n      <td>-0.001815</td>\n      <td>0.024537</td>\n      <td>0.043745</td>\n      <td>1.000000</td>\n      <td>0.003514</td>\n      <td>0.037626</td>\n      <td>0.008049</td>\n      <td>0.019026</td>\n      <td>0.002943</td>\n      <td>0.005644</td>\n      <td>0.000420</td>\n      <td>0.002631</td>\n    </tr>\n    <tr>\n      <th>minimum_nights</th>\n      <td>0.002155</td>\n      <td>-0.002394</td>\n      <td>0.004455</td>\n      <td>0.030003</td>\n      <td>0.108245</td>\n      <td>0.129478</td>\n      <td>-0.006922</td>\n      <td>0.011363</td>\n      <td>0.005327</td>\n      <td>0.011177</td>\n      <td>0.069190</td>\n      <td>0.003514</td>\n      <td>1.000000</td>\n      <td>-0.020286</td>\n      <td>0.041172</td>\n      <td>-0.003024</td>\n      <td>0.047520</td>\n      <td>0.003468</td>\n      <td>-0.006081</td>\n      <td>-0.028504</td>\n    </tr>\n    <tr>\n      <th>instant_bookable</th>\n      <td>0.074814</td>\n      <td>0.013250</td>\n      <td>-0.012103</td>\n      <td>0.042686</td>\n      <td>0.017870</td>\n      <td>-0.052223</td>\n      <td>0.020086</td>\n      <td>0.040728</td>\n      <td>0.056481</td>\n      <td>0.014969</td>\n      <td>-0.004564</td>\n      <td>0.037626</td>\n      <td>-0.020286</td>\n      <td>1.000000</td>\n      <td>-0.004971</td>\n      <td>0.095418</td>\n      <td>0.039605</td>\n      <td>-0.020519</td>\n      <td>0.065162</td>\n      <td>0.027553</td>\n    </tr>\n    <tr>\n      <th>cancellation_policy</th>\n      <td>0.200218</td>\n      <td>0.038757</td>\n      <td>0.120816</td>\n      <td>0.203410</td>\n      <td>0.308902</td>\n      <td>0.190306</td>\n      <td>0.217387</td>\n      <td>0.190085</td>\n      <td>-0.029880</td>\n      <td>0.144067</td>\n      <td>0.175001</td>\n      <td>0.008049</td>\n      <td>0.041172</td>\n      <td>-0.004971</td>\n      <td>1.000000</td>\n      <td>0.071320</td>\n      <td>0.138837</td>\n      <td>0.157030</td>\n      <td>0.143250</td>\n      <td>-0.118319</td>\n    </tr>\n    <tr>\n      <th>Laptop_friendly_workspace</th>\n      <td>0.068465</td>\n      <td>0.030580</td>\n      <td>0.052212</td>\n      <td>0.084699</td>\n      <td>0.120560</td>\n      <td>0.045322</td>\n      <td>0.087636</td>\n      <td>0.051326</td>\n      <td>0.019400</td>\n      <td>0.067237</td>\n      <td>0.072646</td>\n      <td>0.019026</td>\n      <td>-0.003024</td>\n      <td>0.095418</td>\n      <td>0.071320</td>\n      <td>1.000000</td>\n      <td>0.040428</td>\n      <td>0.049276</td>\n      <td>0.162813</td>\n      <td>-0.014503</td>\n    </tr>\n    <tr>\n      <th>TV</th>\n      <td>0.238482</td>\n      <td>0.082128</td>\n      <td>0.148449</td>\n      <td>0.265729</td>\n      <td>0.236943</td>\n      <td>0.117211</td>\n      <td>0.086148</td>\n      <td>0.151793</td>\n      <td>0.130416</td>\n      <td>0.156684</td>\n      <td>0.272560</td>\n      <td>0.002943</td>\n      <td>0.047520</td>\n      <td>0.039605</td>\n      <td>0.138837</td>\n      <td>0.040428</td>\n      <td>1.000000</td>\n      <td>0.145582</td>\n      <td>0.080039</td>\n      <td>-0.100870</td>\n    </tr>\n    <tr>\n      <th>Family_kid_friendly</th>\n      <td>0.349940</td>\n      <td>0.084417</td>\n      <td>0.260328</td>\n      <td>0.234975</td>\n      <td>0.190704</td>\n      <td>0.084702</td>\n      <td>0.136759</td>\n      <td>0.226091</td>\n      <td>0.039971</td>\n      <td>0.147691</td>\n      <td>0.236279</td>\n      <td>0.005644</td>\n      <td>0.003468</td>\n      <td>-0.020519</td>\n      <td>0.157030</td>\n      <td>0.049276</td>\n      <td>0.145582</td>\n      <td>1.000000</td>\n      <td>0.024554</td>\n      <td>-0.091041</td>\n    </tr>\n    <tr>\n      <th>Host_greets_you</th>\n      <td>0.023572</td>\n      <td>0.004309</td>\n      <td>0.019485</td>\n      <td>0.044367</td>\n      <td>0.114128</td>\n      <td>0.056503</td>\n      <td>0.138789</td>\n      <td>0.041528</td>\n      <td>0.050364</td>\n      <td>0.025013</td>\n      <td>-0.035023</td>\n      <td>0.000420</td>\n      <td>-0.006081</td>\n      <td>0.065162</td>\n      <td>0.143250</td>\n      <td>0.162813</td>\n      <td>0.080039</td>\n      <td>0.024554</td>\n      <td>1.000000</td>\n      <td>-0.021187</td>\n    </tr>\n    <tr>\n      <th>Smoking_allowed</th>\n      <td>-0.105068</td>\n      <td>-0.008691</td>\n      <td>-0.092371</td>\n      <td>-0.150515</td>\n      <td>-0.153712</td>\n      <td>-0.089796</td>\n      <td>-0.035623</td>\n      <td>-0.081339</td>\n      <td>-0.048867</td>\n      <td>-0.084157</td>\n      <td>-0.181269</td>\n      <td>0.002631</td>\n      <td>-0.028504</td>\n      <td>0.027553</td>\n      <td>-0.118319</td>\n      <td>-0.014503</td>\n      <td>-0.100870</td>\n      <td>-0.091041</td>\n      <td>-0.021187</td>\n      <td>1.000000</td>\n    </tr>\n  </tbody>\n</table>\n</div>"
     },
     "metadata": {},
     "execution_count": 139
    }
   ],
   "source": [
    "df.corr()"
   ]
  },
  {
   "cell_type": "code",
   "execution_count": 140,
   "metadata": {},
   "outputs": [
    {
     "output_type": "execute_result",
     "data": {
      "text/plain": "   accommodates  bathrooms  bedrooms  price  cleaning_fee  security_deposit  \\\n0             4        1.0       2.0   52.0          20.0             300.0   \n1             2        1.0       1.0  125.0          45.0             200.0   \n2             2        1.0       1.0   30.0          20.0               0.0   \n3             2        1.0       1.0   25.0           0.0               0.0   \n4             2        1.0       1.0   54.0           0.0               0.0   \n\n   extra_people  guests_included  distance        size  room_type  bed_type  \\\n0          10.0                2  8.492239   20.000000        1.0       2.0   \n1           0.0                1  3.951948  200.000000        2.0       2.0   \n2           0.0                1  3.748695   45.749963        1.0       2.0   \n3          10.0                1  5.062518   18.000000        1.0       2.0   \n4           9.0                1  3.184217   55.055173        1.0       2.0   \n\n   minimum_nights  instant_bookable  cancellation_policy  \\\n0               2               0.0                  2.0   \n1               5               1.0                  2.0   \n2               5               1.0                  1.0   \n3              14               0.0                  1.0   \n4               1               0.0                  0.0   \n\n   Laptop_friendly_workspace   TV  Family_kid_friendly  Host_greets_you  \\\n0                        0.0  0.0                  1.0              0.0   \n1                        0.0  1.0                  0.0              0.0   \n2                        1.0  0.0                  0.0              1.0   \n3                        1.0  0.0                  1.0              0.0   \n4                        0.0  1.0                  0.0              1.0   \n\n   Smoking_allowed  \n0              0.0  \n1              0.0  \n2              0.0  \n3              0.0  \n4              0.0  ",
      "text/html": "<div>\n<style scoped>\n    .dataframe tbody tr th:only-of-type {\n        vertical-align: middle;\n    }\n\n    .dataframe tbody tr th {\n        vertical-align: top;\n    }\n\n    .dataframe thead th {\n        text-align: right;\n    }\n</style>\n<table border=\"1\" class=\"dataframe\">\n  <thead>\n    <tr style=\"text-align: right;\">\n      <th></th>\n      <th>accommodates</th>\n      <th>bathrooms</th>\n      <th>bedrooms</th>\n      <th>price</th>\n      <th>cleaning_fee</th>\n      <th>security_deposit</th>\n      <th>extra_people</th>\n      <th>guests_included</th>\n      <th>distance</th>\n      <th>size</th>\n      <th>room_type</th>\n      <th>bed_type</th>\n      <th>minimum_nights</th>\n      <th>instant_bookable</th>\n      <th>cancellation_policy</th>\n      <th>Laptop_friendly_workspace</th>\n      <th>TV</th>\n      <th>Family_kid_friendly</th>\n      <th>Host_greets_you</th>\n      <th>Smoking_allowed</th>\n    </tr>\n  </thead>\n  <tbody>\n    <tr>\n      <th>0</th>\n      <td>4</td>\n      <td>1.0</td>\n      <td>2.0</td>\n      <td>52.0</td>\n      <td>20.0</td>\n      <td>300.0</td>\n      <td>10.0</td>\n      <td>2</td>\n      <td>8.492239</td>\n      <td>20.000000</td>\n      <td>1.0</td>\n      <td>2.0</td>\n      <td>2</td>\n      <td>0.0</td>\n      <td>2.0</td>\n      <td>0.0</td>\n      <td>0.0</td>\n      <td>1.0</td>\n      <td>0.0</td>\n      <td>0.0</td>\n    </tr>\n    <tr>\n      <th>1</th>\n      <td>2</td>\n      <td>1.0</td>\n      <td>1.0</td>\n      <td>125.0</td>\n      <td>45.0</td>\n      <td>200.0</td>\n      <td>0.0</td>\n      <td>1</td>\n      <td>3.951948</td>\n      <td>200.000000</td>\n      <td>2.0</td>\n      <td>2.0</td>\n      <td>5</td>\n      <td>1.0</td>\n      <td>2.0</td>\n      <td>0.0</td>\n      <td>1.0</td>\n      <td>0.0</td>\n      <td>0.0</td>\n      <td>0.0</td>\n    </tr>\n    <tr>\n      <th>2</th>\n      <td>2</td>\n      <td>1.0</td>\n      <td>1.0</td>\n      <td>30.0</td>\n      <td>20.0</td>\n      <td>0.0</td>\n      <td>0.0</td>\n      <td>1</td>\n      <td>3.748695</td>\n      <td>45.749963</td>\n      <td>1.0</td>\n      <td>2.0</td>\n      <td>5</td>\n      <td>1.0</td>\n      <td>1.0</td>\n      <td>1.0</td>\n      <td>0.0</td>\n      <td>0.0</td>\n      <td>1.0</td>\n      <td>0.0</td>\n    </tr>\n    <tr>\n      <th>3</th>\n      <td>2</td>\n      <td>1.0</td>\n      <td>1.0</td>\n      <td>25.0</td>\n      <td>0.0</td>\n      <td>0.0</td>\n      <td>10.0</td>\n      <td>1</td>\n      <td>5.062518</td>\n      <td>18.000000</td>\n      <td>1.0</td>\n      <td>2.0</td>\n      <td>14</td>\n      <td>0.0</td>\n      <td>1.0</td>\n      <td>1.0</td>\n      <td>0.0</td>\n      <td>1.0</td>\n      <td>0.0</td>\n      <td>0.0</td>\n    </tr>\n    <tr>\n      <th>4</th>\n      <td>2</td>\n      <td>1.0</td>\n      <td>1.0</td>\n      <td>54.0</td>\n      <td>0.0</td>\n      <td>0.0</td>\n      <td>9.0</td>\n      <td>1</td>\n      <td>3.184217</td>\n      <td>55.055173</td>\n      <td>1.0</td>\n      <td>2.0</td>\n      <td>1</td>\n      <td>0.0</td>\n      <td>0.0</td>\n      <td>0.0</td>\n      <td>1.0</td>\n      <td>0.0</td>\n      <td>1.0</td>\n      <td>0.0</td>\n    </tr>\n  </tbody>\n</table>\n</div>"
     },
     "metadata": {},
     "execution_count": 140
    }
   ],
   "source": [
    "df.head(5)"
   ]
  },
  {
   "cell_type": "code",
   "execution_count": 141,
   "metadata": {},
   "outputs": [
    {
     "output_type": "execute_result",
     "data": {
      "text/plain": "   accommodates  bathrooms  bedrooms  cleaning_fee  security_deposit  \\\n0             2        1.0       0.0           0.0               0.0   \n1             2        1.5       2.0          39.0             200.0   \n2             2        1.0       1.0          40.0               0.0   \n3             3        1.0       0.0           0.0               0.0   \n4             2        1.0       1.0          20.0             100.0   \n\n   extra_people  guests_included  distance       size  room_type  bed_type  \\\n0           0.0                1  3.655893  49.298490        2.0       2.0   \n1          10.0                2  4.043631  65.019556        2.0       2.0   \n2          50.0                1  3.225601  88.241570        1.0       2.0   \n3           7.0                1  2.860649  10.000000        2.0       2.0   \n4          15.0                1  4.583860  75.000000        1.0       2.0   \n\n   minimum_nights  instant_bookable  cancellation_policy  \\\n0               1               0.0                  0.0   \n1               6               0.0                  2.0   \n2               1               0.0                  1.0   \n3              28               0.0                  2.0   \n4               3               0.0                  2.0   \n\n   Laptop_friendly_workspace   TV  Family_kid_friendly  Host_greets_you  \\\n0                        1.0  0.0                  0.0              0.0   \n1                        1.0  0.0                  0.0              0.0   \n2                        1.0  0.0                  0.0              1.0   \n3                        0.0  1.0                  0.0              1.0   \n4                        1.0  0.0                  1.0              0.0   \n\n   Smoking_allowed  \n0              0.0  \n1              0.0  \n2              0.0  \n3              0.0  \n4              0.0  ",
      "text/html": "<div>\n<style scoped>\n    .dataframe tbody tr th:only-of-type {\n        vertical-align: middle;\n    }\n\n    .dataframe tbody tr th {\n        vertical-align: top;\n    }\n\n    .dataframe thead th {\n        text-align: right;\n    }\n</style>\n<table border=\"1\" class=\"dataframe\">\n  <thead>\n    <tr style=\"text-align: right;\">\n      <th></th>\n      <th>accommodates</th>\n      <th>bathrooms</th>\n      <th>bedrooms</th>\n      <th>cleaning_fee</th>\n      <th>security_deposit</th>\n      <th>extra_people</th>\n      <th>guests_included</th>\n      <th>distance</th>\n      <th>size</th>\n      <th>room_type</th>\n      <th>bed_type</th>\n      <th>minimum_nights</th>\n      <th>instant_bookable</th>\n      <th>cancellation_policy</th>\n      <th>Laptop_friendly_workspace</th>\n      <th>TV</th>\n      <th>Family_kid_friendly</th>\n      <th>Host_greets_you</th>\n      <th>Smoking_allowed</th>\n    </tr>\n  </thead>\n  <tbody>\n    <tr>\n      <th>0</th>\n      <td>2</td>\n      <td>1.0</td>\n      <td>0.0</td>\n      <td>0.0</td>\n      <td>0.0</td>\n      <td>0.0</td>\n      <td>1</td>\n      <td>3.655893</td>\n      <td>49.298490</td>\n      <td>2.0</td>\n      <td>2.0</td>\n      <td>1</td>\n      <td>0.0</td>\n      <td>0.0</td>\n      <td>1.0</td>\n      <td>0.0</td>\n      <td>0.0</td>\n      <td>0.0</td>\n      <td>0.0</td>\n    </tr>\n    <tr>\n      <th>1</th>\n      <td>2</td>\n      <td>1.5</td>\n      <td>2.0</td>\n      <td>39.0</td>\n      <td>200.0</td>\n      <td>10.0</td>\n      <td>2</td>\n      <td>4.043631</td>\n      <td>65.019556</td>\n      <td>2.0</td>\n      <td>2.0</td>\n      <td>6</td>\n      <td>0.0</td>\n      <td>2.0</td>\n      <td>1.0</td>\n      <td>0.0</td>\n      <td>0.0</td>\n      <td>0.0</td>\n      <td>0.0</td>\n    </tr>\n    <tr>\n      <th>2</th>\n      <td>2</td>\n      <td>1.0</td>\n      <td>1.0</td>\n      <td>40.0</td>\n      <td>0.0</td>\n      <td>50.0</td>\n      <td>1</td>\n      <td>3.225601</td>\n      <td>88.241570</td>\n      <td>1.0</td>\n      <td>2.0</td>\n      <td>1</td>\n      <td>0.0</td>\n      <td>1.0</td>\n      <td>1.0</td>\n      <td>0.0</td>\n      <td>0.0</td>\n      <td>1.0</td>\n      <td>0.0</td>\n    </tr>\n    <tr>\n      <th>3</th>\n      <td>3</td>\n      <td>1.0</td>\n      <td>0.0</td>\n      <td>0.0</td>\n      <td>0.0</td>\n      <td>7.0</td>\n      <td>1</td>\n      <td>2.860649</td>\n      <td>10.000000</td>\n      <td>2.0</td>\n      <td>2.0</td>\n      <td>28</td>\n      <td>0.0</td>\n      <td>2.0</td>\n      <td>0.0</td>\n      <td>1.0</td>\n      <td>0.0</td>\n      <td>1.0</td>\n      <td>0.0</td>\n    </tr>\n    <tr>\n      <th>4</th>\n      <td>2</td>\n      <td>1.0</td>\n      <td>1.0</td>\n      <td>20.0</td>\n      <td>100.0</td>\n      <td>15.0</td>\n      <td>1</td>\n      <td>4.583860</td>\n      <td>75.000000</td>\n      <td>1.0</td>\n      <td>2.0</td>\n      <td>3</td>\n      <td>0.0</td>\n      <td>2.0</td>\n      <td>1.0</td>\n      <td>0.0</td>\n      <td>1.0</td>\n      <td>0.0</td>\n      <td>0.0</td>\n    </tr>\n  </tbody>\n</table>\n</div>"
     },
     "metadata": {},
     "execution_count": 141
    }
   ],
   "source": [
    "df1.head(5)"
   ]
  },
  {
   "cell_type": "markdown",
   "metadata": {},
   "source": [
    "The correlations look good.  There appear to be no coorelated columns."
   ]
  },
  {
   "cell_type": "markdown",
   "metadata": {},
   "source": [
    "### Spliting the data \n",
    "\n",
    "70% for training, 30% for testing"
   ]
  },
  {
   "cell_type": "code",
   "execution_count": 142,
   "metadata": {},
   "outputs": [],
   "source": [
    "from sklearn.model_selection import train_test_split\n",
    "\n",
    "feature_col_names = ['accommodates', 'bathrooms', 'bedrooms', 'cleaning_fee', 'security_deposit', 'extra_people', 'guests_included', 'instant_bookable', 'distance', 'size', 'bed_type', 'minimum_nights', 'room_type', 'cancellation_policy', 'Laptop_friendly_workspace', 'TV', 'Family_kid_friendly', 'Host_greets_you', 'Smoking_allowed']    \n",
    "predicted_class_names = ['price']\n",
    "\n",
    "X = df[feature_col_names].values     # predictor feature columns \n",
    "y = df[predicted_class_names].values # predicted class (1=true, 0=false) column (1 X m)\n",
    "split_test_size = 0.20\n",
    "\n",
    "X_train, X_test, y_train, y_test = train_test_split(X, y, test_size=split_test_size, random_state=42) \n",
    "                            # test_size = 0.2 is 20%, 42 is the answer to everything"
   ]
  },
  {
   "cell_type": "code",
   "execution_count": 143,
   "metadata": {},
   "outputs": [],
   "source": [
    "from sklearn.model_selection import train_test_split\n",
    "\n",
    "feature_col_names = ['accommodates', 'bathrooms', 'bedrooms', 'cleaning_fee', 'security_deposit', 'extra_people', 'guests_included', 'instant_bookable', 'distance', 'size', 'bed_type', 'minimum_nights', 'room_type', 'cancellation_policy', 'Laptop_friendly_workspace', 'TV', 'Family_kid_friendly', 'Host_greets_you', 'Smoking_allowed']\n",
    "predicted_class_names = ['price']\n",
    "\n",
    "X1 = df1[feature_col_names].values     # predictor feature columns (8 X m)\n",
    "#y = df1[predicted_class_names].values # predicted class (1=true, 0=false) column (1 X m)\n",
    "split_test_size = 1.0\n",
    "\n",
    "\n",
    "                            # test_size = 0.2 is 20%, 42 is the answer to everything"
   ]
  },
  {
   "cell_type": "markdown",
   "metadata": {},
   "source": [
    "We check to ensure we have the the desired 70% train, 30% test split of the data"
   ]
  },
  {
   "cell_type": "code",
   "execution_count": 144,
   "metadata": {},
   "outputs": [
    {
     "output_type": "stream",
     "name": "stdout",
     "text": "80.00% in training set\n20.00% in test set\n"
    }
   ],
   "source": [
    "print(\"{0:0.2f}% in training set\".format((len(X_train)/len(df.index)) * 100))\n",
    "print(\"{0:0.2f}% in test set\".format((len(X_test)/len(df.index)) * 100))"
   ]
  },
  {
   "cell_type": "markdown",
   "metadata": {},
   "source": [
    "## Training Initial Algorithm - Naive Bayes"
   ]
  },
  {
   "cell_type": "code",
   "execution_count": 145,
   "metadata": {},
   "outputs": [
    {
     "output_type": "execute_result",
     "data": {
      "text/plain": "GaussianNB(priors=None, var_smoothing=1e-09)"
     },
     "metadata": {},
     "execution_count": 145
    }
   ],
   "source": [
    "from sklearn.naive_bayes import GaussianNB\n",
    "\n",
    "# create Gaussian Naive Bayes model object and train it with the data\n",
    "nb_model = GaussianNB()\n",
    "\n",
    "nb_model.fit(X_train, y_train.ravel())"
   ]
  },
  {
   "cell_type": "markdown",
   "metadata": {
    "collapsed": true
   },
   "source": [
    "### Performance on Training Data"
   ]
  },
  {
   "cell_type": "code",
   "execution_count": 146,
   "metadata": {},
   "outputs": [
    {
     "output_type": "stream",
     "name": "stdout",
     "text": "Accuracy: 0.0251\n\n"
    }
   ],
   "source": [
    "# predict values using the training data\n",
    "nb_predict_train = nb_model.predict(X_train)\n",
    "\n",
    "# import the performance metrics library\n",
    "from sklearn import metrics\n",
    "\n",
    "# Accuracy\n",
    "print(\"Accuracy: {0:.4f}\".format(metrics.accuracy_score(y_train, nb_predict_train)))\n",
    "print()"
   ]
  },
  {
   "cell_type": "markdown",
   "metadata": {},
   "source": [
    "### Performance on Testing Data"
   ]
  },
  {
   "cell_type": "code",
   "execution_count": 147,
   "metadata": {},
   "outputs": [
    {
     "output_type": "stream",
     "name": "stdout",
     "text": "Accuracy: 0.0070\n"
    }
   ],
   "source": [
    "# predict values using the testing data\n",
    "nb_predict_test = nb_model.predict(X_test)\n",
    "\n",
    "from sklearn import metrics\n",
    "\n",
    "# training metrics\n",
    "print(\"Accuracy: {0:.4f}\".format(metrics.accuracy_score(y_test, nb_predict_test)))\n",
    ""
   ]
  },
  {
   "cell_type": "markdown",
   "metadata": {},
   "source": [
    "## Random Forest"
   ]
  },
  {
   "cell_type": "code",
   "execution_count": 148,
   "metadata": {},
   "outputs": [
    {
     "output_type": "stream",
     "name": "stdout",
     "text": "Mean Absolute Error: 12.660567780779484\nMean Squared Error: 603.8069410405994\nRoot Mean Squared Error: 24.572483412154323\n0.6720197521511674\n{'bootstrap': True,\n 'ccp_alpha': 0.0,\n 'criterion': 'mse',\n 'max_depth': 80,\n 'max_features': 'auto',\n 'max_leaf_nodes': None,\n 'max_samples': None,\n 'min_impurity_decrease': 0.0,\n 'min_impurity_split': None,\n 'min_samples_leaf': 2,\n 'min_samples_split': 5,\n 'min_weight_fraction_leaf': 0.0,\n 'n_estimators': 750,\n 'n_jobs': -1,\n 'oob_score': False,\n 'random_state': 0,\n 'verbose': 0,\n 'warm_start': False}\n"
    }
   ],
   "source": [
    "from sklearn.ensemble import RandomForestClassifier\n",
    "from sklearn.ensemble import RandomForestRegressor\n",
    "import math\n",
    "from sklearn import metrics\n",
    "from sklearn.metrics import r2_score\n",
    "from pprint import pprint\n",
    "#n_features = 12\n",
    "#rf_model =  RandomForestRegressor(n_estimators=300)\n",
    "#rf_model = RandomForestClassifier(n_estimators=500,bootstrap=True,max_features=n_features)      # Create random forest object rf_model = RandomForestClassifier(random_state=42) \n",
    "#rf_model.fit(X_train, y_train.ravel()) \n",
    "\n",
    "regressor = RandomForestRegressor(n_estimators=750, bootstrap=True, max_depth=80, max_features='auto', min_samples_leaf=2, min_samples_split=5, random_state=0, n_jobs=-1) #2100\n",
    "regressor.fit(X_train, y_train.ravel())\n",
    "y_pred = regressor.predict(X_test)\n",
    "print('Mean Absolute Error:', metrics.mean_absolute_error(y_test, y_pred))\n",
    "print('Mean Squared Error:', metrics.mean_squared_error(y_test, y_pred))\n",
    "print('Root Mean Squared Error:', np.sqrt(metrics.mean_squared_error(y_test, y_pred)))\n",
    "print(r2_score(y_test, y_pred, multioutput='variance_weighted'))\n",
    "pprint(regressor.get_params())"
   ]
  },
  {
   "cell_type": "markdown",
   "metadata": {},
   "source": [
    "### Predict Training Data"
   ]
  },
  {
   "cell_type": "code",
   "execution_count": 149,
   "metadata": {},
   "outputs": [
    {
     "output_type": "stream",
     "name": "stdout",
     "text": "Mean Absolute Error: 12.660567780779484\nMean Squared Error: 603.8069410405994\nRoot Mean Squared Error: 24.572483412154323\n0.6720197521511674\n"
    }
   ],
   "source": [
    "from sklearn import metrics\n",
    "from sklearn.metrics import r2_score\n",
    "\n",
    "print('Mean Absolute Error:', metrics.mean_absolute_error(y_test, y_pred))\n",
    "print('Mean Squared Error:', metrics.mean_squared_error(y_test, y_pred))\n",
    "print('Root Mean Squared Error:', np.sqrt(metrics.mean_squared_error(y_test, y_pred)))\n",
    "print(r2_score(y_test, y_pred, multioutput='variance_weighted'))"
   ]
  },
  {
   "cell_type": "code",
   "execution_count": 150,
   "metadata": {},
   "outputs": [],
   "source": [
    "predictions = regressor.predict(X1)"
   ]
  },
  {
   "cell_type": "code",
   "execution_count": 151,
   "metadata": {},
   "outputs": [
    {
     "output_type": "execute_result",
     "data": {
      "text/plain": "         ID      price\n5485   9537  31.704664\n5486    264  62.115441\n5487  21268  48.844681\n5488   1932  62.404783\n5489  18537  39.404206",
      "text/html": "<div>\n<style scoped>\n    .dataframe tbody tr th:only-of-type {\n        vertical-align: middle;\n    }\n\n    .dataframe tbody tr th {\n        vertical-align: top;\n    }\n\n    .dataframe thead th {\n        text-align: right;\n    }\n</style>\n<table border=\"1\" class=\"dataframe\">\n  <thead>\n    <tr style=\"text-align: right;\">\n      <th></th>\n      <th>ID</th>\n      <th>price</th>\n    </tr>\n  </thead>\n  <tbody>\n    <tr>\n      <th>5485</th>\n      <td>9537</td>\n      <td>31.704664</td>\n    </tr>\n    <tr>\n      <th>5486</th>\n      <td>264</td>\n      <td>62.115441</td>\n    </tr>\n    <tr>\n      <th>5487</th>\n      <td>21268</td>\n      <td>48.844681</td>\n    </tr>\n    <tr>\n      <th>5488</th>\n      <td>1932</td>\n      <td>62.404783</td>\n    </tr>\n    <tr>\n      <th>5489</th>\n      <td>18537</td>\n      <td>39.404206</td>\n    </tr>\n  </tbody>\n</table>\n</div>"
     },
     "metadata": {},
     "execution_count": 151
    }
   ],
   "source": [
    "sample_submission.tail()"
   ]
  },
  {
   "cell_type": "code",
   "execution_count": 152,
   "metadata": {},
   "outputs": [
    {
     "output_type": "execute_result",
     "data": {
      "text/plain": "      ID      price\n0  21787  44.184856\n1   3199  82.736068\n2   9990  52.816094\n3  13052  51.989369\n4   6004  43.057635",
      "text/html": "<div>\n<style scoped>\n    .dataframe tbody tr th:only-of-type {\n        vertical-align: middle;\n    }\n\n    .dataframe tbody tr th {\n        vertical-align: top;\n    }\n\n    .dataframe thead th {\n        text-align: right;\n    }\n</style>\n<table border=\"1\" class=\"dataframe\">\n  <thead>\n    <tr style=\"text-align: right;\">\n      <th></th>\n      <th>ID</th>\n      <th>price</th>\n    </tr>\n  </thead>\n  <tbody>\n    <tr>\n      <th>0</th>\n      <td>21787</td>\n      <td>44.184856</td>\n    </tr>\n    <tr>\n      <th>1</th>\n      <td>3199</td>\n      <td>82.736068</td>\n    </tr>\n    <tr>\n      <th>2</th>\n      <td>9990</td>\n      <td>52.816094</td>\n    </tr>\n    <tr>\n      <th>3</th>\n      <td>13052</td>\n      <td>51.989369</td>\n    </tr>\n    <tr>\n      <th>4</th>\n      <td>6004</td>\n      <td>43.057635</td>\n    </tr>\n  </tbody>\n</table>\n</div>"
     },
     "metadata": {},
     "execution_count": 152
    }
   ],
   "source": [
    "sample_submission.head()"
   ]
  },
  {
   "cell_type": "code",
   "execution_count": 153,
   "metadata": {},
   "outputs": [],
   "source": [
    "sample_submission['price'] = predictions"
   ]
  },
  {
   "cell_type": "code",
   "execution_count": 154,
   "metadata": {},
   "outputs": [],
   "source": [
    "sample_submission.to_csv('my_submission.csv', index=False)"
   ]
  }
 ],
 "metadata": {
  "kernelspec": {
   "display_name": "Python 3.7.6 64-bit",
   "language": "python",
   "name": "python37664bit36bf43e501b147a3b989a5aaf13409bd"
  },
  "language_info": {
   "codemirror_mode": {
    "name": "ipython",
    "version": 3
   },
   "file_extension": ".py",
   "mimetype": "text/x-python",
   "name": "python",
   "nbconvert_exporter": "python",
   "pygments_lexer": "ipython3",
   "version": "3.7.6-final"
  }
 },
 "nbformat": 4,
 "nbformat_minor": 1
}